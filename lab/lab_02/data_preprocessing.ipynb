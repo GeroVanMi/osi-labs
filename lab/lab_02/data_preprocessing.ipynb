{
 "cells": [
  {
   "cell_type": "markdown",
   "metadata": {
    "collapsed": true,
    "pycharm": {
     "name": "#%% md\n"
    }
   },
   "source": [
    "# OSI Lab 02\n",
    "Author: Gérôme Meyer\n",
    "\n",
    "In this lab we download the following data-set: \"[Daten der automatischen Fussgänger- und Velozählung - Viertelstundenwerte ](https://opendata.swiss/de/dataset/daten-der-automatischen-fussganger-und-velozahlung-viertelstundenwerte)\""
   ]
  },
  {
   "cell_type": "code",
   "execution_count": null,
   "outputs": [],
   "source": [
    "import requests\n",
    "import os\n",
    "\n",
    "response = requests.get(\n",
    "    'https://data.stadt-zuerich.ch/dataset/ted_taz_verkehrszaehlungen_werte_fussgaenger_velo/download/2022_verkehrszaehlungen_werte_fussgaenger_velo.csv'\n",
    ")\n",
    "\n",
    "# Only download the data if it doesn't exist yet.\n",
    "# Theoretically we could implement a more sophisticated caching mechanism (like downloading the data if it's older than a week) but this should be fine\n",
    "# for our purposes.\n",
    "if not os.path.exists('./data.csv'):\n",
    "    with open('data.csv', mode='wb') as f:\n",
    "        f.write(response.content)\n"
   ],
   "metadata": {
    "collapsed": false,
    "pycharm": {
     "name": "#%%\n"
    }
   }
  },
  {
   "cell_type": "markdown",
   "source": [
    "# Pre-processing the data\n",
    "Next we read the data into pandas and check its top 10 entries."
   ],
   "metadata": {
    "collapsed": false,
    "pycharm": {
     "name": "#%% md\n"
    }
   }
  },
  {
   "cell_type": "code",
   "execution_count": 2,
   "outputs": [
    {
     "name": "stdout",
     "output_type": "stream",
     "text": [
      "    FK_ZAEHLER  FK_STANDORT             DATUM  VELO_IN  VELO_OUT  FUSS_IN  \\\n",
      "0  ECO09113500         2979  2022-01-01T00:00      0.0       0.0      NaN   \n",
      "1  ECO10053914         2978  2022-01-01T00:00      0.0       0.0      NaN   \n",
      "2  U15G3104443         2641  2022-01-01T00:00      NaN       NaN      3.0   \n",
      "3  Y2H18106792         3598  2022-01-01T00:00      0.0       0.0      NaN   \n",
      "4  U15G3063873         3020  2022-01-01T00:00      NaN       NaN      3.0   \n",
      "\n",
      "   FUSS_OUT      OST     NORD  \n",
      "0       NaN  2681858  1251991  \n",
      "1       NaN  2683406  1251617  \n",
      "2       0.0  2682813  1245490  \n",
      "3       NaN  2684006  1246566  \n",
      "4       3.0  2680439  1249930  \n"
     ]
    }
   ],
   "source": [
    "import pandas as pd\n",
    "\n",
    "df = pd.read_csv('./data.csv')\n",
    "print(df.head())"
   ],
   "metadata": {
    "collapsed": false,
    "pycharm": {
     "name": "#%%\n"
    }
   }
  }
 ],
 "metadata": {
  "kernelspec": {
   "display_name": "Python 3",
   "language": "python",
   "name": "python3"
  },
  "language_info": {
   "codemirror_mode": {
    "name": "ipython",
    "version": 2
   },
   "file_extension": ".py",
   "mimetype": "text/x-python",
   "name": "python",
   "nbconvert_exporter": "python",
   "pygments_lexer": "ipython2",
   "version": "2.7.6"
  }
 },
 "nbformat": 4,
 "nbformat_minor": 0
}