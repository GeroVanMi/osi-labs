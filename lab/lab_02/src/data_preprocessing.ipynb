{
 "cells": [
  {
   "cell_type": "markdown",
   "metadata": {
    "collapsed": true,
    "pycharm": {
     "name": "#%% md\n"
    }
   },
   "source": [
    "# OSI Lab 02\n",
    "Author: Gérôme Meyer\n",
    "\n",
    "In this lab we download the following data-set: \"[Daten der automatischen Fussgänger- und Velozählung - Viertelstundenwerte ](https://opendata.swiss/de/dataset/daten-der-automatischen-fussganger-und-velozahlung-viertelstundenwerte)\""
   ]
  },
  {
   "cell_type": "code",
   "execution_count": 1,
   "metadata": {
    "pycharm": {
     "name": "#%%\n"
    }
   },
   "outputs": [
    {
     "name": "stdout",
     "output_type": "stream",
     "text": [
      "Data exists already. Not downloading.\n",
      "Completed step #1: \"Download\".\n"
     ]
    }
   ],
   "source": [
    "import requests\n",
    "import os\n",
    "\n",
    "path = './data.csv'\n",
    "path_filtered = './data_filtered.csv'\n",
    "\n",
    "# Only download the data if it doesn't exist yet.\n",
    "# Theoretically we could implement a more sophisticated caching mechanism (like downloading the data if it's older than a week) but this should be fine\n",
    "# for our purposes.1\n",
    "if not os.path.exists(path):\n",
    "    print('Downloading data from \"data.stadt-zuerich.ch\"')\n",
    "    response = requests.get(\n",
    "        'https://data.stadt-zuerich.ch/dataset/ted_taz_verkehrszaehlungen_werte_fussgaenger_velo/download/2022_verkehrszaehlungen_werte_fussgaenger_velo.csv'\n",
    "    )\n",
    "\n",
    "    with open(path, mode='wb') as f:\n",
    "        f.write(response.content)\n",
    "        print(\"Written data content to file.\")\n",
    "else:\n",
    "    print(\"Data exists already. Not downloading.\")\n",
    "print('Completed step #1: \"Download\".')"
   ]
  },
  {
   "cell_type": "markdown",
   "metadata": {
    "pycharm": {
     "name": "#%% md\n"
    }
   },
   "source": [
    "# Pre-processing the data\n",
    "Next we read the data into pandas and check its top 10 entries."
   ]
  },
  {
   "cell_type": "code",
   "execution_count": 2,
   "metadata": {
    "pycharm": {
     "name": "#%%\n"
    }
   },
   "outputs": [
    {
     "name": "stdout",
     "output_type": "stream",
     "text": [
      "Filtered data exists already. Did nothing.\n",
      "Completed step #2: \"Filter\".\n"
     ]
    }
   ],
   "source": [
    "import pandas as pd\n",
    "\n",
    "if not os.path.exists(path_filtered):\n",
    "    df = pd.read_csv(path)\n",
    "    df = df.loc[df['FK_STANDORT'] == 2979]\n",
    "    df.to_csv(path_filtered)\n",
    "    print(\"Written filtered data.\")\n",
    "else:\n",
    "    print(\"Filtered data exists already. Did nothing.\")\n",
    "print('Completed step #2: \"Filter\".')"
   ]
  }
 ],
 "metadata": {
  "kernelspec": {
   "display_name": "Python 3 (ipykernel)",
   "language": "python",
   "name": "python3"
  },
  "language_info": {
   "codemirror_mode": {
    "name": "ipython",
    "version": 3
   },
   "file_extension": ".py",
   "mimetype": "text/x-python",
   "name": "python",
   "nbconvert_exporter": "python",
   "pygments_lexer": "ipython3",
   "version": "3.10.4"
  }
 },
 "nbformat": 4,
 "nbformat_minor": 1
}
