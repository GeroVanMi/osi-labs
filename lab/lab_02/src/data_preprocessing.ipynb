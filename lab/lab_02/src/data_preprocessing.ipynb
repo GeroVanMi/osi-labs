{
 "cells": [
  {
   "cell_type": "markdown",
   "metadata": {
    "collapsed": true,
    "pycharm": {
     "name": "#%% md\n"
    }
   },
   "source": [
    "# OSI Lab 02\n",
    "Author: Gérôme Meyer\n",
    "\n",
    "In this lab we download the following data-set: \"[Daten der automatischen Fussgänger- und Velozählung - Viertelstundenwerte ](https://opendata.swiss/de/dataset/daten-der-automatischen-fussganger-und-velozahlung-viertelstundenwerte)\""
   ]
  },
  {
   "cell_type": "code",
   "execution_count": 1,
   "outputs": [
    {
     "name": "stdout",
     "output_type": "stream",
     "text": [
      "Downloading data from \"data.stadt-zuerich.ch\"\n",
      "Written data content to file.\n",
      "Completed step #1: \"Download\".\n"
     ]
    }
   ],
   "source": [
    "import requests\n",
    "import os\n",
    "\n",
    "path = './data.csv'\n",
    "path_filtered = './data_filtered.csv'\n",
    "\n",
    "# Only download the data if it doesn't exist yet.\n",
    "# Theoretically we could implement a more sophisticated caching mechanism (like downloading the data if it's older than a week) but this should be fine\n",
    "# for our purposes.\n",
    "if not os.path.exists(path):\n",
    "    print('Downloading data from \"data.stadt-zuerich.ch\"')\n",
    "    response = requests.get(\n",
    "        'https://data.stadt-zuerich.ch/dataset/ted_taz_verkehrszaehlungen_werte_fussgaenger_velo/download/2022_verkehrszaehlungen_werte_fussgaenger_velo.csv'\n",
    "    )\n",
    "\n",
    "    with open(path, mode='wb') as f:\n",
    "        f.write(response.content)\n",
    "        print(\"Written data content to file.\")\n",
    "else:\n",
    "    print(\"Data exists already. Not downloading.\")\n",
    "print('Completed step #1: \"Download\".')"
   ],
   "metadata": {
    "collapsed": false,
    "pycharm": {
     "name": "#%%\n"
    }
   }
  },
  {
   "cell_type": "markdown",
   "source": [
    "# Pre-processing the data\n",
    "Next we read the data into pandas and check its top 10 entries."
   ],
   "metadata": {
    "collapsed": false,
    "pycharm": {
     "name": "#%% md\n"
    }
   }
  },
  {
   "cell_type": "code",
   "execution_count": 2,
   "outputs": [
    {
     "name": "stdout",
     "output_type": "stream",
     "text": [
      "Written filtered data.\n",
      "Completed step #2: \"Filter\".\n"
     ]
    }
   ],
   "source": [
    "import pandas as pd\n",
    "\n",
    "if not os.path.exists(path_filtered):\n",
    "    df = pd.read_csv(path)\n",
    "    df = df.loc[df['FK_STANDORT'] == 2979]\n",
    "    df.to_csv(path_filtered)\n",
    "    print(\"Written filtered data.\")\n",
    "else:\n",
    "    print(\"Filtered data exists already. Did nothing.\")\n",
    "print('Completed step #2: \"Filter\".')"
   ],
   "metadata": {
    "collapsed": false,
    "pycharm": {
     "name": "#%%\n"
    }
   }
  }
 ],
 "metadata": {
  "kernelspec": {
   "display_name": "Python 3",
   "language": "python",
   "name": "python3"
  },
  "language_info": {
   "codemirror_mode": {
    "name": "ipython",
    "version": 2
   },
   "file_extension": ".py",
   "mimetype": "text/x-python",
   "name": "python",
   "nbconvert_exporter": "python",
   "pygments_lexer": "ipython2",
   "version": "2.7.6"
  }
 },
 "nbformat": 4,
 "nbformat_minor": 0
}